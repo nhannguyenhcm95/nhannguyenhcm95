{
  "nbformat": 4,
  "nbformat_minor": 0,
  "metadata": {
    "colab": {
      "provenance": [],
      "authorship_tag": "ABX9TyPukeX+eWx6/Uu8ByrBVT5O",
      "include_colab_link": true
    },
    "kernelspec": {
      "name": "python3",
      "display_name": "Python 3"
    },
    "language_info": {
      "name": "python"
    }
  },
  "cells": [
    {
      "cell_type": "markdown",
      "metadata": {
        "id": "view-in-github",
        "colab_type": "text"
      },
      "source": [
        "<a href=\"https://colab.research.google.com/github/nhannguyenhcm95/nhannguyenhcm95/blob/main/Python_Lv3_bu%E1%BB%95i_1_b%C3%A0i_1.ipynb\" target=\"_parent\"><img src=\"https://colab.research.google.com/assets/colab-badge.svg\" alt=\"Open In Colab\"/></a>"
      ]
    },
    {
      "cell_type": "code",
      "execution_count": 2,
      "metadata": {
        "id": "NxQCk0Y4L4mW"
      },
      "outputs": [],
      "source": [
        "import numpy as np\n",
        "import pandas as pd\n",
        "import matplotlib.pyplot as plt\n",
        "plt.rcParams.update({'figure.figsize':(7,3), 'figure.dpi':120})"
      ]
    },
    {
      "cell_type": "code",
      "source": [
        "link='https://drive.google.com/file/d/1JmOgZGM-4MYumG1ALz5W56Edur69MAeN/view?usp=sharing'"
      ],
      "metadata": {
        "id": "5ENAEV1-ESkX"
      },
      "execution_count": 3,
      "outputs": []
    },
    {
      "cell_type": "code",
      "source": [
        "df.info()"
      ],
      "metadata": {
        "id": "7bOUU7ykEibw"
      },
      "execution_count": null,
      "outputs": []
    }
  ]
}